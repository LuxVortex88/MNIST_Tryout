{
  "nbformat": 4,
  "nbformat_minor": 0,
  "metadata": {
    "colab": {
      "provenance": [],
      "authorship_tag": "ABX9TyM0lG4J5nZxVnPxcdez+Jl6"
    },
    "kernelspec": {
      "name": "python3",
      "display_name": "Python 3"
    },
    "language_info": {
      "name": "python"
    }
  },
  "cells": [
    {
      "cell_type": "code",
      "execution_count": 11,
      "metadata": {
        "colab": {
          "base_uri": "https://localhost:8080/"
        },
        "id": "PvTD_2Rs_2DS",
        "outputId": "0ff961af-9643-49cd-bb4f-c30723d43ccf"
      },
      "outputs": [
        {
          "output_type": "stream",
          "name": "stdout",
          "text": [
            "[MODE MANAGER] INIT -> SAFE\n",
            "[MODE MANAGER] MODE EXEC -> SAFE\n",
            "- All systems minimal. Awaiting ground command.\n",
            "[MODE MANAGER] Transition -> SAFE -> STANDBY\n",
            "[MODE MANAGER] MODE EXEC -> STANDBY\n",
            "- Monitoring systems. Awaiting mode command.\n",
            "[MODE MANAGER] Transition -> STANDBY -> SCIENCE\n",
            "[MODE MANAGER] MODE EXEC -> SCIENCE\n",
            "= Gathering science data.\n",
            "[MODE MANAGER] ERROR: Invalid transition SCIENCE -> COMM\n",
            "[MODE MANAGER] MODE EXEC -> SCIENCE\n",
            "= Gathering science data.\n",
            "[MODE MANAGER] Transition -> SCIENCE -> STANDBY\n",
            "[MODE MANAGER] MODE EXEC -> STANDBY\n",
            "- Monitoring systems. Awaiting mode command.\n",
            "[MODE MANAGER] Transition -> STANDBY -> COMM\n",
            "[MODE MANAGER] MODE EXEC -> COMM\n",
            "- Communicating with ground station.\n"
          ]
        }
      ],
      "source": [
        "# Spacecraft Mode Manager\n",
        "# Description:State Machine-Based mode manager for flight software\n",
        "\n",
        "import time\n",
        "from enum import Enum, auto\n",
        "\n",
        "class SpaceCraftMode(Enum):\n",
        "    SAFE = auto()\n",
        "    STANDBY = auto()\n",
        "    SCIENCE = auto()\n",
        "    COMM = auto()\n",
        "\n",
        "class ModeManager:\n",
        "    _allowed_transitions = {\n",
        "        SpacecraftMode.SAFE: {SpacecraftMode.STANDBY},\n",
        "        SpacecraftMode.STANDBY: {SpacecraftMode.SAFE, SpacecraftMode.SCIENCE, SpacecraftMode.COMM},\n",
        "        SpacecraftMode.SCIENCE: {SpacecraftMode.STANDBY},\n",
        "        SpacecraftMode.COMM: {SpacecraftMode.STANDBY},\n",
        "    }\n",
        "\n",
        "    def __init__(self):\n",
        "       self.current_mode = SpacecraftMode.SAFE\n",
        "       self._log(f\"INIT -> {self.current_mode.name}\")\n",
        "\n",
        "    def transition(self, new_mode):\n",
        "        if new_mode in self._allowed_transitions.get(self.current_mode, set()):\n",
        "            self._log(f\"Transition -> {self.current_mode.name} -> {new_mode.name}\")\n",
        "            self.current_mode = new_mode\n",
        "        else:\n",
        "            self._log(f\"ERROR: Invalid transition {self.current_mode.name} -> {new_mode.name}\")\n",
        "\n",
        "    def run_current_mode(self):\n",
        "        self._log(f\"MODE EXEC -> {self.current_mode.name}\")\n",
        "        getattr(self, f\"_execute_{self.current_mode.name.lower()}_mode\")()\n",
        "\n",
        "    def _execute_safe_mode(self):\n",
        "        print(\"- All systems minimal. Awaiting ground command.\")\n",
        "\n",
        "    def _execute_standby_mode(self):\n",
        "        print( \"- Monitoring systems. Awaiting mode command.\")\n",
        "\n",
        "    def _execute_science_mode(self):\n",
        "        print(\"= Gathering science data.\")\n",
        "\n",
        "    def _execute_comm_mode(self):\n",
        "        print(\"- Communicating with ground station.\")\n",
        "\n",
        "    def _log(self, msg):\n",
        "        print(f\"[MODE MANAGER] {msg}\")\n",
        "\n",
        "# Example run:\n",
        "if __name__ == \"__main__\":\n",
        "   mm = ModeManager()\n",
        "\n",
        "   for mode in [\n",
        "       SpacecraftMode.STANDBY,\n",
        "       SpacecraftMode.SCIENCE,\n",
        "       SpacecraftMode.COMM, #Invalid\n",
        "       SpacecraftMode.STANDBY,\n",
        "       SpacecraftMode.COMM\n",
        "   ]:\n",
        "       mm.run_current_mode()\n",
        "       time.sleep(0.5)\n",
        "       mm.transition(mode)\n",
        "       time.sleep(0.5)\n",
        "\n",
        "   mm.run_current_mode()"
      ]
    }
  ]
}